{
 "cells": [
  {
   "cell_type": "markdown",
   "metadata": {},
   "source": [
    "# Fast SLAM 1.0\n",
    "\n",
    "2017年度確率ロボティクス課題2"
   ]
  },
  {
   "cell_type": "code",
   "execution_count": 1,
   "metadata": {
    "collapsed": true
   },
   "outputs": [],
   "source": [
    "%matplotlib inline\n",
    "import numpy as np\n",
    "from copy import copy, deepcopy\n",
    "import math, random\n",
    "import matplotlib.pyplot as plt\n",
    "from matplotlib.patches import Ellipse"
   ]
  },
  {
   "cell_type": "markdown",
   "metadata": {},
   "source": [
    "### ランドマーク"
   ]
  },
  {
   "cell_type": "code",
   "execution_count": 2,
   "metadata": {
    "collapsed": true
   },
   "outputs": [],
   "source": [
    "class Landmark:\n",
    "    # ランドマークの座標を登録\n",
    "    def __init__(self, x, y):\n",
    "        self.pos = np.array([[x],[y]])\n",
    "        \n",
    "    #描画\n",
    "    def draw(self):\n",
    "        xs, ys = self.pos\n",
    "        plt.scatter(xs, ys, s=300, marker=\"*\", label=\"landmarks\", color=\"orange\")\n",
    "        \n",
    "    #ランドマークの位置(x, y)と相対距離と相対角度を返す関数\n",
    "    def relative_pos(self, pose):\n",
    "        x, y, theta = pose\n",
    "        lx, ly = self.pos[0][0], self.pos[1][0]\n",
    "        distance = math.sqrt((x-lx)**2 + (y-ly)**2)\n",
    "        direction = math.atan2(ly-y, lx-x) - theta\n",
    "        \n",
    "        return (distance, direction, lx, ly)"
   ]
  },
  {
   "cell_type": "markdown",
   "metadata": {},
   "source": [
    "### 地図"
   ]
  },
  {
   "cell_type": "code",
   "execution_count": 3,
   "metadata": {
    "collapsed": true
   },
   "outputs": [],
   "source": [
    "class Map:\n",
    "    #ランドマークを格納するリスト\n",
    "    def __init__(self):\n",
    "        self.landmarks = []\n",
    "    \n",
    "    #地図にランドマークを追加\n",
    "    def append_landmark(self, x, y):\n",
    "        self.landmarks.append(Landmark(x, y))\n",
    "        \n",
    "    #描画\n",
    "    def draw(self):\n",
    "        for l in self.landmarks:\n",
    "            l.draw()\n",
    "            \n",
    "    #ランドマークの位置（x, y）と相対距離と相対角度とID(番号)のリストを返す\n",
    "    def relative_landmark_positions(self, pose):\n",
    "        positions = [[*ln.relative_pos(pose), i] for i, ln in enumerate(self.landmarks)]\n",
    "        \n",
    "        return positions"
   ]
  },
  {
   "cell_type": "markdown",
   "metadata": {},
   "source": [
    "### 地図にランドマークを登録して表示するテスト"
   ]
  },
  {
   "cell_type": "code",
   "execution_count": 4,
   "metadata": {},
   "outputs": [
    {
     "data": {
      "image/png": "[encoded data removed]",
      "text/plain": [
       "<matplotlib.figure.Figure at 0x1034c4390>"
      ]
     },
     "metadata": {},
     "output_type": "display_data"
    }
   ],
   "source": [
    "m = Map()\n",
    "m.append_landmark(-0.5, 0.0)\n",
    "m.append_landmark(0.5, 0.0)\n",
    "m.append_landmark(0.0, 0.5)\n",
    "m.append_landmark(0.5, 0.3)\n",
    "m.append_landmark(-0.5, 0.3)\n",
    "m.draw()"
   ]
  },
  {
   "cell_type": "markdown",
   "metadata": {
    "collapsed": true
   },
   "source": [
    "### ロボットです"
   ]
  },
  {
   "cell_type": "code",
   "execution_count": 5,
   "metadata": {
    "collapsed": true
   },
   "outputs": [],
   "source": [
    "class Robot:\n",
    "    # 初期位置を設定\n",
    "    def __init__(self, pose):\n",
    "        self.pose = pose\n",
    "        \n",
    "    # 描画\n",
    "    def draw(self):\n",
    "        x, y, theta = self.pose\n",
    "        plt.quiver([x], [y], [math.cos(theta)], [math.sin(theta)], color=\"red\", label=\"actual robot motion\")\n",
    "        \n",
    "    # ランドマーク観測\n",
    "    def observation(self, m):\n",
    "        measurements = m.relative_landmark_positions(self.pose)\n",
    "        observations = []\n",
    "        \n",
    "        for m in measurements:\n",
    "            distance, direction, lx, ly, i = m\n",
    "            # 後ろ側は観測できないようにする\n",
    "            if(math.cos(direction) < 0.0):\n",
    "                continue\n",
    "                \n",
    "            # 相対距離に10%の標準偏差の雑音を入れる\n",
    "            measured_distance = random.gauss(distance, distance*0.1)\n",
    "            # 相対角度に5度の標準偏差の雑音を入れる\n",
    "            measured_direction = random.gauss(direction, math.radians(5.0))\n",
    "            \n",
    "            observations.append([measured_distance, measured_direction, lx, ly, i])\n",
    "            \n",
    "        return observations\n",
    "    \n",
    "    # 移動モデル\n",
    "    def motion_model(self, pos, fw, rot):\n",
    "        # fwの10%の標準偏差の雑音を入れる\n",
    "        actual_fw = random.gauss(fw, fw/10.0)\n",
    "        # 3度の標準偏差の雑音を入れる\n",
    "        dir_error = random.gauss(0.0, math.radians(3.0))\n",
    "        \n",
    "        px, py, pt = pos\n",
    "        \n",
    "        # 前進\n",
    "        x = px + actual_fw * math.cos(pt + dir_error)\n",
    "        y = py + actual_fw * math.sin(pt + dir_error)\n",
    "        \n",
    "        # 回転にrotの10%の標準偏差の雑音を入れる\n",
    "        t = pt + dir_error + random.gauss(rot, rot/10.0)\n",
    "        \n",
    "        return np.array([x, y, t])"
   ]
  },
  {
   "cell_type": "markdown",
   "metadata": {},
   "source": [
    "### ロボットを地図に置いてみるテスト"
   ]
  },
  {
   "cell_type": "code",
   "execution_count": 6,
   "metadata": {
    "scrolled": true
   },
   "outputs": [
    {
     "data": {
      "image/png": "[encoded data removed]",
      "text/plain": [
       "<matplotlib.figure.Figure at 0x104e83b70>"
      ]
     },
     "metadata": {},
     "output_type": "display_data"
    }
   ],
   "source": [
    "robot = Robot(np.array([0.1, 0.2, math.radians(20.0)]))\n",
    "robot.draw()\n",
    "m.draw()"
   ]
  },
  {
   "cell_type": "markdown",
   "metadata": {},
   "source": [
    "### ロボットとランドマークの位置関係の描画"
   ]
  },
  {
   "cell_type": "code",
   "execution_count": 7,
   "metadata": {},
   "outputs": [
    {
     "name": "stdout",
     "output_type": "stream",
     "text": [
      "[[0.4915798419535959, -0.6798892853201307, 0.5, 0.0, 1], [0.311710661989288, 1.4883293154371955, 0.0, 0.5, 2], [0.40110511006951494, 0.001889676034287871, 0.5, 0.3, 3]]\n"
     ]
    },
    {
     "data": {
      "image/png": "[encoded data removed]",
      "text/plain": [
       "<matplotlib.figure.Figure at 0x104e54550>"
      ]
     },
     "metadata": {},
     "output_type": "display_data"
    }
   ],
   "source": [
    "observations = robot.observation(m)\n",
    "print(observations)\n",
    "\n",
    "fig = plt.figure(0, figsize=(8, 8))\n",
    "sp = fig.add_subplot(111, aspect=\"equal\")\n",
    "sp.set_xlim(-1.0, 1.0)\n",
    "sp.set_ylim(-0.5, 1.5)\n",
    "\n",
    "for observation in observations:\n",
    "    x, y, theta = robot.pose\n",
    "    distance, direction, lx, ly, i = observation\n",
    "    lx = distance * math.cos(theta+direction) + x\n",
    "    ly = distance * math.sin(theta+direction) + y\n",
    "    # ロボットの観測したランドマークとロボットをピンク色の線で表示\n",
    "    plt.plot([robot.pose[0], lx], [robot.pose[1], ly], color=\"pink\")\n",
    "    \n",
    "    c = math.cos(theta + direction)\n",
    "    s = math.sin(theta + direction)\n",
    "    rot = np.array([[c, -s], [s, c]])\n",
    "    \n",
    "    err_robot = np.diag([(distance*0.1)**2.0, (distance*math.sin(math.radians(5.0)))**2])\n",
    "    err_world = rot@err_robot@rot.T\n",
    "    \n",
    "    eig_vals, eig_vec = np.linalg.eig(err_world)\n",
    "    v1 = eig_vals[0] * eig_vec[:, 0]\n",
    "    v2 = eig_vals[1] * eig_vec[:, 1]\n",
    "    v1_direction = math.atan2(v1[1], v1[0])\n",
    "    \n",
    "    # 誤差楕円の表示\n",
    "    elli = Ellipse([lx, ly], width=3*math.sqrt(np.linalg.norm(v1)), height=3*math.sqrt(np.linalg.norm(v2)), angle=math.degrees(v1_direction))\n",
    "    elli.set_alpha(0.2)\n",
    "    sp.add_artist(elli)\n",
    "    \n",
    "robot.draw()\n",
    "m.draw()"
   ]
  },
  {
   "cell_type": "markdown",
   "metadata": {},
   "source": [
    "## FastSLAMの実装"
   ]
  },
  {
   "cell_type": "markdown",
   "metadata": {},
   "source": [
    "### ランドマークの推定結果の入れ物\n",
    "* ランドマークの位置 $\\hat{\\boldsymbol{m}_i}$ self.pos\n",
    "* ランドマークの共分散 $\\Sigma_i$ self.cov"
   ]
  },
  {
   "cell_type": "code",
   "execution_count": 8,
   "metadata": {
    "collapsed": true
   },
   "outputs": [],
   "source": [
    "class LandmarkEstimation:\n",
    "    def __init__(self):\n",
    "        self.pos = np.zeros((2,1))\n",
    "        self.cov = np.diag((1.0e5**2, 1.0e5**2))"
   ]
  },
  {
   "cell_type": "markdown",
   "metadata": {},
   "source": [
    "### パーティクルのクラス\n",
    "\n",
    "* パーティクルの持つ変数\n",
    "  * 重み\n",
    "  * ロボットの姿勢\n",
    "  * 地図\n",
    "  \n",
    "* メソッド\n",
    "  * ロボットの動作をパーティクルに反映\n",
    "    * MCLと同じ\n",
    "  * 計測値をパーティクルに反映\n",
    "    * 重みの計算\n",
    "      * MCLと同じ\n",
    "    * 地図の更新\n",
    "      * 情報行列にして足し合わせて逆行列にして戻す\n",
    "        * $\\Sigma_i \\longleftarrow (\\Sigma_i^{-1} + Q_z^{-1})^{-1}$\n",
    "      * カルマンゲインの計算\n",
    "        * $K \\longleftarrow \\Sigma_i Q_z^{-1}$\n",
    "      * カルマンゲインから位置を更新\n",
    "        * $\\hat{m_i} \\longleftarrow (1-K)\\hat{m_i} + K\\boldsymbol{z}$"
   ]
  },
  {
   "cell_type": "code",
   "execution_count": 9,
   "metadata": {
    "collapsed": true
   },
   "outputs": [],
   "source": [
    "class Particle:\n",
    "    def __init__(self, pose, w):\n",
    "        self.w = w\n",
    "        self.pose = pose        \n",
    "        # ランドマークは5つ\n",
    "        self.map = [LandmarkEstimation() for i in range(5)]\n",
    "    \n",
    "    # 動作モデルの反映\n",
    "    def motion_update(self, fw, rot, robot):\n",
    "        self.pose = robot.motion_model(self.pose, fw, rot)\n",
    "        \n",
    "    # 計測値の反映\n",
    "    def measurement_update(self, measurement):\n",
    "        x, y, theta = self.pose\n",
    "        distance, direction, lx, ly, i = measurement\n",
    "        ln = self.map[i]\n",
    "        lx = distance * math.cos(theta + direction) + x\n",
    "        ly = distance * math.sin(theta + direction) + y\n",
    "        # FastSLAMのパーティクルの重みの更新\n",
    "        delta = np.array([[x-lx], [y-ly]])\n",
    "        coef = 2 * math.pi * math.sqrt(np.linalg.det(ln.cov))\n",
    "        inexp = -0.5 * (delta.T@np.linalg.inv(ln.cov)@delta)\n",
    "        self.w *= 1.0/coef * math.exp(inexp)\n",
    "        \n",
    "        # 地図の更新\n",
    "        z = np.array([[lx], [ly]])\n",
    "        \n",
    "        c = math.cos(theta + direction)\n",
    "        s = math.sin(theta + direction)\n",
    "        rot = np.array([[c, -s], [s, c]])\n",
    "        \n",
    "        err_robot = np.diag([(distance*0.1)**2, (distance*math.sin(math.radians(5.0)))**2])\n",
    "        err_world = rot@err_robot@rot.T\n",
    "        ln.cov = np.linalg.inv(np.linalg.inv(ln.cov)+np.linalg.inv(err_world))\n",
    "        K = (ln.cov).dot(np.linalg.inv(err_world))\n",
    "        ln.pos += K.dot(z - ln.pos)\n",
    "        \n",
    "    # 描画\n",
    "    def draw(self,i):\n",
    "        fig = plt.figure(i,figsize=(4, 4))\n",
    "        sp = fig.add_subplot(111, aspect='equal')\n",
    "        sp.set_xlim(-1.0,1.0)\n",
    "        sp.set_ylim(-0.5,1.5)\n",
    "        \n",
    "        m.draw()\n",
    "        x,y,theta = self.pose\n",
    "        plt.quiver([x],[y],[math.cos(theta)],[math.sin(theta)],color=\"red\",label=\"actual robot motion\")\n",
    "        \n",
    "        for e in self.map:\n",
    "            eig_vals,eig_vec = np.linalg.eig(e.cov)\n",
    "            v1 = eig_vals[0] * eig_vec[:,0]\n",
    "            v2 = eig_vals[1] * eig_vec[:,1]\n",
    "            v1_direction = math.atan2(v1[1],v1[0])\n",
    "    \n",
    "\n",
    "            x,y = e.pos\n",
    "            elli = Ellipse([x,y],width=3*math.sqrt(np.linalg.norm(v1)),height=3*math.sqrt(np.linalg.norm(v2)),angle=v1_direction/3.14*180)\n",
    "            elli.set_alpha(0.5)\n",
    "        \n",
    "            sp.add_artist(elli)"
   ]
  },
  {
   "cell_type": "markdown",
   "metadata": {},
   "source": [
    "### FastSLAMのクラス\n",
    "* 変数\n",
    "  * パーティクル群\n",
    "* メソッド\n",
    "  * ロボットの動作をパーティクルに反映\n",
    "    * MCLと同じ\n",
    "  * 計測値をパーティクルに反映\n",
    "    * $P(\\boldsymbol{m},\\boldsymbol{x}|\\boldsymbol{z}) = \\eta P(\\boldsymbol{z}|\\boldsymbol{m},\\boldsymbol{x})P(\\boldsymbol{m},\\boldsymbol{x})$（ベイズの定理）\n",
    "      * この式が上の各パーティクルの処理に分解できる（Rao-Blackwellization）\n",
    "  * リサンプリング\n",
    "    * MCLと同じ"
   ]
  },
  {
   "cell_type": "code",
   "execution_count": 10,
   "metadata": {
    "collapsed": true
   },
   "outputs": [],
   "source": [
    "class FastSLAM:\n",
    "    # パーティクルの数を設定\n",
    "    def __init__(self, pose):\n",
    "        # パーティクル数300\n",
    "        p_num = 300\n",
    "        self.particles = [Particle(pose, 1.0/p_num) for i in range(p_num)]\n",
    "    \n",
    "    # 描画\n",
    "    def draw(self):\n",
    "        for (i, p) in enumerate(self.particles):\n",
    "            p.draw(i)\n",
    "            # 3個だけパーティクルを描画する\n",
    "            if i > 3:\n",
    "                return\n",
    "    \n",
    "    # 動作モデルの反映\n",
    "    def motion_update(self, fw, rot, robot):\n",
    "        for p in self.particles:\n",
    "            p.motion_update(fw, rot, robot)\n",
    "            \n",
    "    # 計測値の反映\n",
    "    def measurement_update(self, measurement):\n",
    "        for p in self.particles:\n",
    "            p.measurement_update(measurement)\n",
    "            \n",
    "        self.resampling()\n",
    "        \n",
    "    # リサンプリング\n",
    "    def resampling(self):\n",
    "        num = len(self.particles)\n",
    "        ws = [e.w for e in self.particles]\n",
    "        \n",
    "        if sum(ws) < 1e-100:\n",
    "            ws = [e + 1e-100 for e in ws]\n",
    "            \n",
    "        ps = random.choices(self.particles, weights=ws, k=num)\n",
    "        \n",
    "        self.particles = [deepcopy(e) for e in ps]"
   ]
  },
  {
   "cell_type": "markdown",
   "metadata": {},
   "source": [
    "## SLAMの実行"
   ]
  },
  {
   "cell_type": "code",
   "execution_count": 11,
   "metadata": {},
   "outputs": [
    {
     "data": {
      "image/png": "[encoded data removed]",
      "text/plain": [
       "<matplotlib.figure.Figure at 0x105235400>"
      ]
     },
     "metadata": {},
     "output_type": "display_data"
    },
    {
     "data": {
      "image/png": "[encoded data removed]",
      "text/plain": [
       "<matplotlib.figure.Figure at 0x105272b38>"
      ]
     },
     "metadata": {},
     "output_type": "display_data"
    },
    {
     "data": {
      "image/png": "[encoded data removed]",
      "text/plain": [
       "<matplotlib.figure.Figure at 0x1052bc240>"
      ]
     },
     "metadata": {},
     "output_type": "display_data"
    },
    {
     "data": {
      "image/png": "[encoded data removed]",
      "text/plain": [
       "<matplotlib.figure.Figure at 0x10530fd30>"
      ]
     },
     "metadata": {},
     "output_type": "display_data"
    },
    {
     "data": {
      "image/png": "[encoded data removed]",
      "text/plain": [
       "<matplotlib.figure.Figure at 0x105370860>"
      ]
     },
     "metadata": {},
     "output_type": "display_data"
    }
   ],
   "source": [
    "m = Map()\n",
    "m.append_landmark(-0.5, 0.0)\n",
    "m.append_landmark(0.5, 0.0)\n",
    "m.append_landmark(0.0, 0.5)\n",
    "m.append_landmark(0.5, 0.3)\n",
    "m.append_landmark(-0.5, 0.3)\n",
    "robot.pose = np.array([0.0, 0.0, 0.0])\n",
    "slam = FastSLAM(robot.pose)\n",
    "slam.draw()"
   ]
  },
  {
   "cell_type": "markdown",
   "metadata": {},
   "source": [
    "### 30ステップ後のパーティクル"
   ]
  },
  {
   "cell_type": "code",
   "execution_count": 12,
   "metadata": {
    "scrolled": false
   },
   "outputs": [
    {
     "name": "stdout",
     "output_type": "stream",
     "text": [
      "Map after 30 steps\n"
     ]
    },
    {
     "data": {
      "image/png": "[encoded data removed]",
      "text/plain": [
       "<matplotlib.figure.Figure at 0x10342ab70>"
      ]
     },
     "metadata": {},
     "output_type": "display_data"
    },
    {
     "data": {
      "image/png": "[encoded data removed]",
      "text/plain": [
       "<matplotlib.figure.Figure at 0x10540ecf8>"
      ]
     },
     "metadata": {},
     "output_type": "display_data"
    },
    {
     "data": {
      "image/png": "[encoded data removed]",
      "text/plain": [
       "<matplotlib.figure.Figure at 0x104e830f0>"
      ]
     },
     "metadata": {},
     "output_type": "display_data"
    },
    {
     "data": {
      "image/png": "[encoded data removed]",
      "text/plain": [
       "<matplotlib.figure.Figure at 0x1034c4710>"
      ]
     },
     "metadata": {},
     "output_type": "display_data"
    },
    {
     "data": {
      "image/png": "[encoded data removed]",
      "text/plain": [
       "<matplotlib.figure.Figure at 0x104e85400>"
      ]
     },
     "metadata": {},
     "output_type": "display_data"
    }
   ],
   "source": [
    "def one_step(m):\n",
    "    slam.motion_update(0.2, math.radians(20.0), robot)\n",
    "    robot.pose = robot.motion_model(robot.pose, 0.2, math.radians(20.0))\n",
    "    measurements = robot.observation(m)\n",
    "    for m in measurements:\n",
    "        slam.measurement_update(m)\n",
    "        \n",
    "n = 30\n",
    "for i in range(n):\n",
    "    one_step(m)\n",
    "    \n",
    "print(\"Map after {} steps\".format(n))\n",
    "slam.draw()"
   ]
  }
 ],
 "metadata": {
  "kernelspec": {
   "display_name": "Python 3",
   "language": "python",
   "name": "python3"
  },
  "language_info": {
   "codemirror_mode": {
    "name": "ipython",
    "version": 3
   },
   "file_extension": ".py",
   "mimetype": "text/x-python",
   "name": "python",
   "nbconvert_exporter": "python",
   "pygments_lexer": "ipython3",
   "version": "3.6.3"
  }
 },
 "nbformat": 4,
 "nbformat_minor": 2
}
